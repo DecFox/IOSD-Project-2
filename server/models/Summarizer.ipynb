{
 "cells": [
  {
   "cell_type": "code",
   "execution_count": 1,
   "id": "3122e4dc",
   "metadata": {},
   "outputs": [],
   "source": [
    "#Extractive Summarization Model-II\n",
    "from nltk.corpus import stopwords\n",
    "from nltk.stem import PorterStemmer\n",
    "from nltk.tokenize import word_tokenize, sent_tokenize"
   ]
  },
  {
   "cell_type": "code",
   "execution_count": 2,
   "id": "9ddfe50b",
   "metadata": {},
   "outputs": [],
   "source": [
    "def _create_dictionary_table(text_string) -> dict:\n",
    "    #removing stop words\n",
    "    stop_words = set(stopwords.words(\"english\"))\n",
    "    words = word_tokenize(text_string)\n",
    "    #reducing words to their root form\n",
    "    stem = PorterStemmer()\n",
    "    #creating dictionary for the word frequency table\n",
    "    frequency_table = dict()\n",
    "    for wd in words:\n",
    "        wd = stem.stem(wd)\n",
    "        if wd in stop_words:\n",
    "            continue\n",
    "        if wd in frequency_table:\n",
    "            frequency_table[wd] += 1\n",
    "        else:\n",
    "            frequency_table[wd] = 1\n",
    "\n",
    "    return frequency_table"
   ]
  },
  {
   "cell_type": "code",
   "execution_count": 3,
   "id": "c1cc9937",
   "metadata": {},
   "outputs": [],
   "source": [
    "def _calculate_sentence_scores(sentences, frequency_table) -> dict:   \n",
    "\n",
    "    #algorithm for scoring a sentence by its words\n",
    "    sentence_weight = dict()\n",
    "\n",
    "    for sentence in sentences:\n",
    "        sentence_wordcount = (len(word_tokenize(sentence)))\n",
    "        sentence_wordcount_without_stop_words = 0\n",
    "        for word_weight in frequency_table:\n",
    "            if word_weight in sentence.lower():\n",
    "                sentence_wordcount_without_stop_words += 1\n",
    "                if sentence[:4] in sentence_weight:\n",
    "                    sentence_weight[sentence[:4]] += frequency_table[word_weight]\n",
    "                else:\n",
    "                    sentence_weight[sentence[:4]] = frequency_table[word_weight]\n",
    "\n",
    "        sentence_weight[sentence[:4]] = sentence_weight[sentence[:4]] / sentence_wordcount_without_stop_words\n",
    "\n",
    "       \n",
    "\n",
    "    return sentence_weight"
   ]
  },
  {
   "cell_type": "code",
   "execution_count": 4,
   "id": "bf031272",
   "metadata": {},
   "outputs": [],
   "source": [
    "def _calculate_average_score(sentence_weight) -> int:\n",
    "   \n",
    "    #calculating the average score for the sentences\n",
    "    sum_values = 0\n",
    "    for entry in sentence_weight:\n",
    "        sum_values += sentence_weight[entry]\n",
    "\n",
    "    #getting sentence average value from source text\n",
    "    average_score = (sum_values / len(sentence_weight))\n",
    "\n",
    "    return average_score"
   ]
  },
  {
   "cell_type": "code",
   "execution_count": 5,
   "id": "dcabeb47",
   "metadata": {},
   "outputs": [],
   "source": [
    "def _get_article_summary(sentences, sentence_weight, threshold):\n",
    "    sentence_counter = 0\n",
    "    article_summary = ''\n",
    "\n",
    "    for sentence in sentences:\n",
    "        if sentence[:4] in sentence_weight and sentence_weight[sentence[:4]] >= (1.25*threshold):\n",
    "            article_summary += \" \" + sentence\n",
    "            sentence_counter += 1\n",
    "\n",
    "    return article_summary\n"
   ]
  },
  {
   "cell_type": "code",
   "execution_count": 6,
   "id": "d9274fb9",
   "metadata": {},
   "outputs": [],
   "source": [
    "def _run_article_summary(article):\n",
    "    \n",
    "    #creating a dictionary for the word frequency table\n",
    "    frequency_table = _create_dictionary_table(article)\n",
    "\n",
    "    #tokenizing the sentences\n",
    "    sentences = sent_tokenize(article)\n",
    "\n",
    "    #algorithm for scoring a sentence by its words\n",
    "    sentence_scores = _calculate_sentence_scores(sentences, frequency_table)\n",
    "\n",
    "    #getting the threshold\n",
    "    threshold = _calculate_average_score(sentence_scores)\n",
    "\n",
    "    #producing the summary\n",
    "    article_summary = _get_article_summary(sentences, sentence_scores,threshold)\n",
    "\n",
    "    return article_summary"
   ]
  },
  {
   "cell_type": "code",
   "execution_count": 7,
   "id": "20b61e07",
   "metadata": {},
   "outputs": [
    {
     "name": "stdout",
     "output_type": "stream",
     "text": [
      " In the wake of the Axis defeat, Germany and Japan were occupied, and war crimes tribunals were conducted against German and Japanese leaders.World War II is generally considered to have begun on 1 September 1939, when Nazi Germany, under Adolf Hitler, invaded Poland. The United Kingdom and France subsequently declared war on Germany on 3 September. As such, the European Axis powers declared war on the United States in solidarity. During 1944 and 1945, Japan suffered reversals in mainland Asia, while the Allies crippled the Japanese Navy and captured key western Pacific islands.The war in Europe concluded with the liberation of German-occupied territories, and the invasion of Germany by the Western Allies and the Soviet Union, culminating in the fall of Berlin to Soviet troops, Hitler's suicide and the German unconditional surrender on 8 May 1945. The United Nations (UN) was established to foster international co-operation and prevent future conflicts,[1] great powers—China, France, the Soviet Union, the United Kingdom, and the United States—became the permanent members of its Security Council. The Soviet Union and the United States emerged as rival superpowers, setting the stage for the nearly half-century-long Cold War. In the wake of European devastation, the influence of its great powers waned, triggering the decolonisation of Africa and Asia. The dates for the beginning of the war in the Pacific include the start of the Second Sino-Japanese War on 7 July 1937,[4][5] or the earlier Japanese invasion of Manchuria, on 19 September 1931. [10] Others view the Spanish Civil War as the start or prelude to World War II. The organisation's primary goals were to prevent armed conflict through collective security, military and naval disarmament, and settling international disputes through peaceful negotiations and arbitration. The interwar period saw strife between supporters of the new republic and hardline opponents on both the right and left. [21] Meanwhile, France, to secure its alliance, allowed Italy a free hand in Ethiopia, which Italy desired as a colonial possession. The situation was aggravated in early 1935 when the Territory of the Saar Basin was legally reunited with Germany, and Hitler repudiated the Treaty of Versailles, accelerated his rearmament programme, and introduced conscription. The Soviet Union, concerned by Germany's goals of capturing vast areas of Eastern Europe, drafted a treaty of mutual assistance with France. [23] The United States, concerned with events in Europe and Asia, passed the Neutrality Act in August of the same year. [25] In October 1936, Germany and Italy formed the Rome–Berlin Axis. The two nations then fought several battles, in Shanghai, Rehe and Hebei, until the Tanggu Truce was signed in 1933. Thereafter, Chinese volunteer forces continued the resistance to Japanese aggression in Manchuria, and Chahar and Suiyuan. The war began with the invasion of the Ethiopian Empire (also known as Abyssinia) by the armed forces of the Kingdom of Italy (Regno d'Italia), which was launched from Italian Somaliland and Eritrea. [33] The United Kingdom and France supported imposing sanctions on Italy for the invasion, but the sanctions were not fully enforced and failed to end the Italian invasion. The Nationalists won the civil war in April 1939; Franco, now dictator, remained officially neutral during World War II but generally favoured the Axis. The Japanese continued to push the Chinese forces back, capturing the capital Nanking in December 1937. The Japanese doctrine of Hokushin-ron, which emphasised Japan's expansion northward, was favoured by the Imperial Army during this time. [53] Soon afterwards, Germany and Italy forced Czechoslovakia to cede additional territory to Hungary, and Poland annexed Czechoslovakia's Zaolzie region. [57] Shortly after the Franco-British pledge to Poland, Germany and Italy formalised their own alliance with the Pact of Steel. [62] The pact neutralised the possibility of Soviet opposition to a campaign against Poland and assured that Germany would not have to face the prospect of a two-front war, as it had in World War I. [63]In response to British requests for direct negotiations to avoid war, Germany made demands on Poland, which only served as a pretext to worsen relations. [66] The first German attack of the war came against the Polish defenses at Westerplatte. The alliance provided no direct military support to Poland, outside of a cautious French probe into the Saarland. [69] The Western Allies also began a naval blockade of Germany, which aimed to damage the country's economy and the war effort. [70] Germany responded by ordering U-boat warfare against Allied merchant and warships, which would later escalate into the Battle of the Atlantic. The Polish counter offensive to the west halted the German advance for several days, but it was outflanked and encircled by the Wehrmacht. [72] On 27 September, the Warsaw garrison surrendered to the Germans, and the last large operational unit of the Polish Army surrendered on 6 October. The proposal was rejected,[65] and Hitler ordered an immediate offensive against France,[75] which was postponed until the spring of 1940 due to bad weather. The Soviet Union invaded Finland in November 1939,[82] and the Soviet Union was expelled from the League of Nations. [93]On the same day, Germany launched an offensive against France. The United Kingdom was able to evacuate a significant number of Allied troops from the continent by early June, although abandoning almost all their equipment. [98]On 10 June, Italy invaded France, declaring war on both France and the United Kingdom. [99] The Germans turned south against the weakened French army, and Paris fell to them on 14 June. France kept its fleet, which the United Kingdom attacked on 3 July in an attempt to prevent its seizure by Germany. The German strategic bombing offensive intensified with night attacks on London and other cities in the Blitz, but failed to significantly disrupt the British war effort[103] and largely ended in May 1941. [108] In 1940, following the German capture of Paris, the size of the United States Navy was significantly increased. The Tripartite Pact stipulated that any country, with the exception of the Soviet Union, which attacked any Axis Power would be forced to go to war against all three. The Italian Navy also suffered significant defeats, with the Royal Navy putting three Italian battleships out of commission by means of a carrier attack at Taranto, and neutralising several more warships at the Battle of Cape Matapan. [119] In under a month, Axis forces advanced to western Egypt and besieged the port of Tobruk. [124] Between June and July, they invaded and occupied the French possessions Syria and Lebanon, with the assistance of the Free French. [126] By contrast, the Germans were steadily making preparations for an attack on the Soviet Union, massing forces on the Soviet border. The Soviets showed some interest but asked for concessions from Finland, Bulgaria, Turkey, and Japan that Germany considered unacceptable. During the summer, the Axis made significant gains into Soviet territory, inflicting immense losses in both personnel and materiel. The blitzkrieg phase of the war in Europe had ended. [156] Despite several offensives by both sides, the war between China and Japan was stalemated by 1940. In August, Chinese communists launched an offensive in Central China; in retaliation, Japan instituted harsh measures in occupied areas to reduce human and material resources for the communists. The Dutch government agreed to provide Japan with some oil supplies from the Dutch East Indies, but negotiations for additional access to their resources ended in failure in June 1941. The United States, the United Kingdom, and other Western governments reacted to this move with a freeze on Japanese assets and a total oil embargo. During these negotiations, Japan advanced a number of proposals which were dismissed by the Americans as inadequate. The Japanese would then be free to exploit the resources of Southeast Asia while exhausting the over-stretched Allies by fighting a defensive war. [182]During 1942, Allied officials debated on the appropriate grand strategy to pursue. The Americans favoured a straightforward, large-scale attack on Germany through France. The Soviets were also demanding a second front. The British, on the other hand, argued that military operations should target peripheral areas to wear out German strength, leading to increasing demoralisation, and bolster resistance forces. The British and Americans agreed to continue to press the initiative in the Mediterranean by invading Sicily to fully secure the Mediterranean supply routes. The planned invasion was thwarted when an Allied task force, centred on two American fleet carriers, fought Japanese naval forces to a draw in the Battle of the Coral Sea. [201] In Burma, Commonwealth forces mounted two operations. The first, an offensive into the Arakan region in late 1942, went disastrously, forcing a retreat back to India by May 1943. [202] The second was the insertion of irregular forces behind Japanese front-lines in February which, by the end of April, had achieved mixed results. The Germans split Army Group South into two groups: Army Group A advanced to the lower Don River and struck south-east to the Caucasus, while Army Group B headed towards the Volga River. The Soviets decided to make their stand at Stalingrad on the Volga. [206]By mid-November, the Germans had nearly taken Stalingrad in bitter street fighting. The Soviets began their second winter counter-offensive, starting with an encirclement of German forces at Stalingrad,[207] and an assault on the Rzhev salient near Moscow, though the latter failed disastrously. [220] A few months later, the Allies commenced an attack of their own in Egypt, dislodging the Axis forces and beginning a drive west across Libya. [221] This attack was followed up shortly after by Anglo-American landings in French North Africa, which resulted in the region joining the Allies. In April, the Allies launched an operation to retake Western New Guinea. On 5 July 1943, Germany attacked Soviet forces around the Kursk Bulge. The Soviet victory at Kursk marked the end of German superiority,[233] giving the Soviet Union the initiative on the Eastern Front. The Western Allies fought through several lines until reaching the main German defensive line in mid-November. By May 1943, as Allied counter-measures became increasingly effective, the resulting sizeable German submarine losses forced a temporary halt of the German Atlantic naval campaign. [258] By June, the Japanese had conquered the province of Henan and begun a new attack on Changsha. [263] After that, the Western Allies slowly pushed into Germany, but failed to cross the Rur river in a large offensive. In Italy, Allied advance also slowed due to the last major German defensive line. [265] Soon after that, another Soviet strategic offensive forced German troops from Western Ukraine and Eastern Poland. The Soviets formed the Polish Committee of National Liberation to control territory in Poland and combat the Polish Armia Krajowa; The Soviet Red Army remained in the Praga district on the other side of the Vistula and watched passively as the Germans quelled the Warsaw Uprising initiated by the Armia Krajowa. [277]In the Pacific, US forces continued to press back the Japanese perimeter. [279] By 16 January 1945, the offensive had been repulsed with no strategic objectives fulfilled. [279] In Italy, the Western Allies remained stalemated at the German defensive line. [280] On 4 February Soviet, British, and US leaders met for the Yalta Conference. [281]In February, the Soviets entered Silesia and Pomerania, while Western Allies entered western Germany and closed to the Rhine river. By March, the Western Allies crossed the Rhine north and south of the Ruhr, encircling the German Army Group B. [282] In early March, in an attempt to protect its last oil reserves in Hungary and to retake Budapest, Germany launched its last major offensive against Soviet troops near Lake Balaton. In two weeks, the offensive had been repulsed, the Soviets advanced to Vienna, and captured the city. American and Soviet forces met at the Elbe river on 25 April, leaving several unoccupied pockets in southern Germany and around Berlin.Ruins of the Reichstag in Berlin, 3 June 1945.Soviet troops stormed and captured Berlin in late April. [283] In Italy, German forces surrendered on 29 April. Total and unconditional surrender in Europe was signed on 7 and 8 May, to be effective by the end of 8 May. Fighting continued on Luzon, Mindanao, and other islands of the Philippines until the end of the war. American naval and amphibious forces also moved towards Japan, taking Iwo Jima by March, and Okinawa by the end of June. [292]On 11 July, Allied leaders met in Potsdam, Germany. [296] In early August, the United States dropped atomic bombs on the Japanese cities of Hiroshima and Nagasaki. The former became a neutral state, non-aligned with any political bloc. The latter was divided into western and eastern occupation zones controlled by the Western Allies and the Soviet Union. The Soviet Union also took over the Polish provinces east of the Curzon line,[304] from which 2 million Poles were expelled;[303][305] north-east Romania,[306][307] parts of eastern Finland,[308] and the three Baltic states were incorporated into the Soviet Union. The alliance between the Western Allies and the Soviet Union had begun to deteriorate even before the war was over. The rest of Europe was also divided into Western and Soviet spheres of influence. [320]Post-war division of the world was formalised by two international military alliances, the United States-led NATO and the Soviet-led Warsaw Pact. [326][327]The global economy suffered heavily from the war, although participating nations were affected differently. The United States emerged much richer than any other nation, leading to a baby boom, and by 1950 its gross domestic product per person was much higher than that of any of the other powers, and it dominated the world economy. [340] Japan recovered much later. [343] Most suggest that some 60 million people died in the war, including about 20 million military personnel and 40 million civilians. [349] Germany sustained 5.3 million military losses, mostly on the Eastern Front and during the final battles in Germany. The Imperial Japanese Army used a variety of such weapons during its invasion and occupation of China (see Unit 731)[365][366] and in early conflicts against the Soviets. [367] Both the Germans and the Japanese tested such weapons against civilians,[368] and sometimes on prisoners of war. [375] Soviet POWs were kept in especially unbearable conditions, and 3.6 million Soviet POWs out of 5.7 million died in Nazi camps during the war. The International Military Tribunal for the Far East found the death rate of Western prisoners was 27 per cent (for American POWs, 37 per cent),[382] seven times that of POWs under the Germans and Italians. [388]Soviet partisans hanged by the German army. The Russian Academy of Sciences reported in 1995 civilian victims in the Soviet Union at German hands totalled 13.7 million dead, twenty percent of the 68 million persons in the occupied Soviet Union.In the East, the intended gains of Lebensraum were never attained as fluctuating front-lines and Soviet scorched earth policies denied resources to the German invaders. Additionally, neither Germany nor Japan planned to fight a protracted war, and had not equipped themselves to do so. [404] Anti-aircraft weaponry also advanced, including defences such as radar and surface-to-air artillery. The use of the jet aircraft was pioneered and, though late introduction meant it had little impact, it led to jets becoming standard in air forces worldwide. [411] Submarines, which had proved to be an effective weapon during the First World War,[412] were anticipated by all sides to be important in the second. The British focused development on anti-submarine weaponry and tactics, such as sonar and convoys, while Germany focused on improving its offensive capability, with designs such as the Type VII submarine and wolfpack tactics. The tank, which had been used predominantly for infantry support in the First World War, had evolved into the primary weapon. [425]\n"
     ]
    }
   ],
   "source": [
    "f=open('input.txt','r',encoding='utf-8')\n",
    "article_content2=f.read().replace('\\n','')\n",
    "f.close()\n",
    "summary_results = _run_article_summary(article_content2)\n",
    "print(summary_results)"
   ]
  },
  {
   "cell_type": "code",
   "execution_count": null,
   "id": "8fd56657",
   "metadata": {},
   "outputs": [],
   "source": []
  }
 ],
 "metadata": {
  "kernelspec": {
   "display_name": "Python 3 (ipykernel)",
   "language": "python",
   "name": "python3"
  },
  "language_info": {
   "codemirror_mode": {
    "name": "ipython",
    "version": 3
   },
   "file_extension": ".py",
   "mimetype": "text/x-python",
   "name": "python",
   "nbconvert_exporter": "python",
   "pygments_lexer": "ipython3",
   "version": "3.10.0"
  }
 },
 "nbformat": 4,
 "nbformat_minor": 5
}
